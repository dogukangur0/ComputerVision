{
 "cells": [
  {
   "cell_type": "code",
   "execution_count": 6,
   "id": "164972be-6375-4c68-af96-24e01efd0786",
   "metadata": {},
   "outputs": [],
   "source": [
    "import cv2 \n",
    "from ultralytics import YOLO"
   ]
  },
  {
   "cell_type": "code",
   "execution_count": 7,
   "id": "f7702b08-4a78-40d3-8c74-267181c9dccd",
   "metadata": {
    "scrolled": true
   },
   "outputs": [],
   "source": [
    "model = YOLO('yolo11n.pt')"
   ]
  },
  {
   "cell_type": "code",
   "execution_count": 8,
   "id": "0061d793-496b-4fd0-8f58-f50b0551c196",
   "metadata": {},
   "outputs": [],
   "source": [
    "video_path = 'traffic_signs.mp4'"
   ]
  },
  {
   "cell_type": "code",
   "execution_count": null,
   "id": "6cac6bb4-78ef-4f88-a313-9f8ffb70de35",
   "metadata": {},
   "outputs": [],
   "source": [
    "capture = cv2.VideoCapture(video_path)\n",
    "\n",
    "# video properties\n",
    "fps = int(capture.get(cv2.CAP_PROP_FPS))\n",
    "width = int(capture.get(cv2.CAP_PROP_FRAME_WIDTH))\n",
    "height = int(capture.get(cv2.CAP_PROP_FRAME_HEIGHT))\n",
    "fourcc = cv2.VideoWriter_fourcc(*'mp4v')\n",
    "output_path = 'output_path_mot.mp4'\n",
    "output = cv2.VideoWriter(output_path, fourcc, fps, (width, height))\n",
    "\n",
    "while capture.isOpened():\n",
    "    \n",
    "    ret, frame = capture.read()\n",
    "\n",
    "    if not ret:\n",
    "        break\n",
    "\n",
    "    results = model.track(frame, persist = True, tracker = 'bytetrack.yaml')\n",
    "\n",
    "    annotated_frame = results[0].plot()\n",
    "    output.write(annotated_frame)\n",
    "\n",
    "    cv2.imshow('ByteTrack Algorithm', annotated_frame)\n",
    "\n",
    "    if cv2.waitKey(1) & 0xFF == ord('q'):\n",
    "        break\n",
    "\n",
    "capture.release()\n",
    "output.release()\n",
    "cv2.destroyAllWindows()"
   ]
  }
 ],
 "metadata": {
  "kernelspec": {
   "display_name": "Python 3 (ipykernel)",
   "language": "python",
   "name": "python3"
  },
  "language_info": {
   "codemirror_mode": {
    "name": "ipython",
    "version": 3
   },
   "file_extension": ".py",
   "mimetype": "text/x-python",
   "name": "python",
   "nbconvert_exporter": "python",
   "pygments_lexer": "ipython3",
   "version": "3.12.3"
  }
 },
 "nbformat": 4,
 "nbformat_minor": 5
}
