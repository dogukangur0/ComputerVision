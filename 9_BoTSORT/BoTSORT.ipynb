{
 "cells": [
  {
   "cell_type": "code",
   "execution_count": 1,
   "id": "926a2a86-d521-4026-89de-27656d3e9901",
   "metadata": {},
   "outputs": [],
   "source": [
    "import cv2 \n",
    "from ultralytics import YOLO"
   ]
  },
  {
   "cell_type": "code",
   "execution_count": 2,
   "id": "a9ee674c-2b57-45a2-805c-8ab58226fc70",
   "metadata": {
    "scrolled": true
   },
   "outputs": [],
   "source": [
    "model = YOLO('yolo11l.pt')"
   ]
  },
  {
   "cell_type": "code",
   "execution_count": null,
   "id": "d3257c49-ca85-44e0-91fb-1d0f36801a83",
   "metadata": {
    "editable": true,
    "slideshow": {
     "slide_type": ""
    },
    "tags": []
   },
   "outputs": [],
   "source": [
    "video_path = \"car_counting.mp4\"\n",
    "\n",
    "capture = cv2.VideoCapture(video_path)\n",
    "\n",
    "fps = int(capture.get(cv2.CAP_PROP_FPS))\n",
    "width = int(capture.get(cv2.CAP_PROP_FRAME_WIDTH))\n",
    "height = int(capture.get(cv2.CAP_PROP_FRAME_HEIGHT))\n",
    "output_path = 'output_mot.mp4'\n",
    "fourcc = cv2.VideoWriter_fourcc(*'mp4v')\n",
    "out = cv2.VideoWriter(output_path, fourcc, fps, (width, height))\n",
    "\n",
    "while capture.isOpened():\n",
    "\n",
    "    ret, frame = capture.read()\n",
    "\n",
    "    if not ret:\n",
    "        break\n",
    "\n",
    "    results = model.track(frame, persist = True)\n",
    "\n",
    "    annotated_frame = results[0].plot()\n",
    "\n",
    "    cv2.imshow('BoTSORT Algorithm', annotated_frame)\n",
    "\n",
    "    out.write(annotated_frame)\n",
    "    if cv2.waitKey(15) & 0xff == ord('q'):\n",
    "        break\n",
    "\n",
    "capture.release()\n",
    "out.release()\n",
    "cv2.destroyAllWindows()"
   ]
  }
 ],
 "metadata": {
  "kernelspec": {
   "display_name": "Python 3 (ipykernel)",
   "language": "python",
   "name": "python3"
  },
  "language_info": {
   "codemirror_mode": {
    "name": "ipython",
    "version": 3
   },
   "file_extension": ".py",
   "mimetype": "text/x-python",
   "name": "python",
   "nbconvert_exporter": "python",
   "pygments_lexer": "ipython3",
   "version": "3.12.3"
  }
 },
 "nbformat": 4,
 "nbformat_minor": 5
}
