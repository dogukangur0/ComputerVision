{
 "cells": [
  {
   "cell_type": "code",
   "execution_count": 1,
   "id": "557ef22f-4ef9-4d25-ae3a-a429d5b89eac",
   "metadata": {},
   "outputs": [],
   "source": [
    "import cv2\n",
    "import torch\n",
    "from deep_sort_realtime.deepsort_tracker import DeepSort\n",
    "from ultralytics import YOLO"
   ]
  },
  {
   "cell_type": "code",
   "execution_count": 2,
   "id": "cfd22bdc-15b2-410a-a453-76b37bd5e0a8",
   "metadata": {
    "scrolled": true
   },
   "outputs": [],
   "source": [
    "# DeepSORT algorithm for tracking (Kalman filter combined with feature extractor vectors)\n",
    "deepSort = DeepSort()\n",
    "\n",
    "# It needs an object detection algorithm -> YOLO\n",
    "yolo = YOLO('yolo11n.pt')"
   ]
  },
  {
   "cell_type": "code",
   "execution_count": null,
   "id": "3e97ad76-c14a-438d-8312-6c5a37beb94b",
   "metadata": {},
   "outputs": [
    {
     "name": "stdout",
     "output_type": "stream",
     "text": [
      "\n",
      "0: 384x640 3 persons, 1 sports ball, 70.5ms\n",
      "Speed: 4.0ms preprocess, 70.5ms inference, 1.2ms postprocess per image at shape (1, 3, 384, 640)\n",
      "\n",
      "0: 384x640 3 persons, 1 sports ball, 56.7ms\n",
      "Speed: 2.2ms preprocess, 56.7ms inference, 1.2ms postprocess per image at shape (1, 3, 384, 640)\n"
     ]
    }
   ],
   "source": [
    "capture = cv2.VideoCapture('football_video.mp4')\n",
    "\n",
    "while capture.isOpened():\n",
    "    ret, frame = capture.read()\n",
    "    \n",
    "    if not ret:\n",
    "        break\n",
    "\n",
    "    results = yolo(frame)\n",
    "    detections = []\n",
    "    boxes = results[0].boxes\n",
    "\n",
    "    for box in boxes:\n",
    "        confidence = float(box.conf[0])\n",
    "        if confidence < 0.5:\n",
    "            continue\n",
    "        x1, y1, x2, y2 = map(int, box.xyxy[0].tolist())\n",
    "        class_label = int(box.cls[0])\n",
    "        # w -> x2-x1, h -> y2-y1\n",
    "        detections.append([[x1, y1, (x2-x1), (y2-y1)], confidence, class_label])\n",
    "\n",
    "    # DeepSORT\n",
    "    tracks = deepSort.update_tracks(detections, frame = frame)\n",
    "\n",
    "    for track in tracks:\n",
    "        x, y, w, h = track.to_tlwh()\n",
    "        track_id = track.track_id\n",
    "\n",
    "        cv2.rectangle(frame, (int(x), int(y)), (int(x+w), int(y+h)), color = (0, 255, 0), thickness = 2) \n",
    "        cv2.putText(frame, f\"ID: {track_id}\", (int(x), int(y)-10), cv2.FONT_HERSHEY_SIMPLEX, 0.5, (0, 255, 0), 1)\n",
    "\n",
    "        cv2.imshow('DeepSORT', frame)\n",
    "\n",
    "        if cv2.waitKey(1) & 0xFF == ord('q'):\n",
    "            break\n",
    "\n",
    "\n",
    "capture.release()\n",
    "cv2.destroyAllWindows()"
   ]
  },
  {
   "cell_type": "code",
   "execution_count": null,
   "id": "27cc0d80-0a6d-4820-8bb0-a8d12be5a2c9",
   "metadata": {},
   "outputs": [],
   "source": []
  },
  {
   "cell_type": "code",
   "execution_count": null,
   "id": "8b6ac8da-f506-4259-8191-4004b517d891",
   "metadata": {},
   "outputs": [],
   "source": []
  }
 ],
 "metadata": {
  "kernelspec": {
   "display_name": "Python 3 (ipykernel)",
   "language": "python",
   "name": "python3"
  },
  "language_info": {
   "codemirror_mode": {
    "name": "ipython",
    "version": 3
   },
   "file_extension": ".py",
   "mimetype": "text/x-python",
   "name": "python",
   "nbconvert_exporter": "python",
   "pygments_lexer": "ipython3",
   "version": "3.12.4"
  }
 },
 "nbformat": 4,
 "nbformat_minor": 5
}
