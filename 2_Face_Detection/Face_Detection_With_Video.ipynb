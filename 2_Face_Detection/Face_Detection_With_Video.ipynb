{
 "cells": [
  {
   "cell_type": "code",
   "execution_count": 11,
   "id": "b8fcca99-920d-4011-9de5-a3da21e0d2f0",
   "metadata": {},
   "outputs": [],
   "source": [
    "import cv2\n",
    "import matplotlib.pyplot as plt"
   ]
  },
  {
   "cell_type": "code",
   "execution_count": 13,
   "id": "b00e441f-32e8-497e-9213-2427b19e0727",
   "metadata": {},
   "outputs": [],
   "source": [
    "cascade_classifier = cv2.CascadeClassifier('haarcascade_frontalface_alt.xml')"
   ]
  },
  {
   "cell_type": "code",
   "execution_count": 23,
   "id": "1ce8b622-0023-429c-b994-e7cf1701ccc7",
   "metadata": {},
   "outputs": [],
   "source": [
    "video_capture = cv2.VideoCapture(0)\n",
    "\n",
    "video_capture.set(3, 640)\n",
    "video_capture.set(4, 480)\n",
    "\n",
    "while True:\n",
    "    ret, frame = video_capture.read()\n",
    "    gray_image = cv2.cvtColor(frame, cv2.COLOR_BGR2GRAY)\n",
    "\n",
    "    detected_face = cascade_classifier.detectMultiScale(image = gray_image,\n",
    "                                                        scaleFactor = 1.01,\n",
    "                                                        minNeighbors = 5,\n",
    "                                                        minSize = (30, 30))\n",
    "\n",
    "    for x, y, width, height in detected_face:\n",
    "        cv2.rectangle(img = frame, pt1 = (x, y), pt2 = (x + width, y + height), color = (0, 0, 225), thickness = 10)\n",
    "\n",
    "    cv2.imshow('Real Time Face Detection', frame)\n",
    "\n",
    "    if cv2.waitKey(30) & 0xff == 27:\n",
    "        break\n",
    "\n",
    "video_capture.release()\n",
    "cv2.destroyAllWindows()"
   ]
  },
  {
   "cell_type": "code",
   "execution_count": null,
   "id": "e9c64170-f101-4eb9-9d99-ca5ed8af41bb",
   "metadata": {},
   "outputs": [],
   "source": []
  }
 ],
 "metadata": {
  "kernelspec": {
   "display_name": "Python 3 (ipykernel)",
   "language": "python",
   "name": "python3"
  },
  "language_info": {
   "codemirror_mode": {
    "name": "ipython",
    "version": 3
   },
   "file_extension": ".py",
   "mimetype": "text/x-python",
   "name": "python",
   "nbconvert_exporter": "python",
   "pygments_lexer": "ipython3",
   "version": "3.12.4"
  }
 },
 "nbformat": 4,
 "nbformat_minor": 5
}
