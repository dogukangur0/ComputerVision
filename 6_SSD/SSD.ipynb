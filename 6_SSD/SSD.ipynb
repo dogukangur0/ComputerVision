{
 "cells": [
  {
   "cell_type": "code",
   "execution_count": 18,
   "id": "fb11e366-062f-471b-a6ac-4be1deb84871",
   "metadata": {},
   "outputs": [],
   "source": [
    "import cv2 \n",
    "import numpy as np"
   ]
  },
  {
   "cell_type": "code",
   "execution_count": 41,
   "id": "e6216a89-1213-4dac-b9db-6c3e95e44699",
   "metadata": {},
   "outputs": [],
   "source": [
    "threshold = 0.5 \n",
    "suppression_threshold = 0.7 \n",
    "ssd_input_size = 320"
   ]
  },
  {
   "cell_type": "code",
   "execution_count": 22,
   "id": "969080a0-db38-4405-b703-803a4cf82793",
   "metadata": {},
   "outputs": [],
   "source": [
    "'''\n",
    "DetectionModel(modelPath, configPath)\n",
    "modelPath  -> includes the weights of the model\n",
    "configPath -> defines the architecture of the model\n",
    "'''\n",
    "neural_network = cv2.dnn_DetectionModel('ssd_weights.pb', 'ssd_mobilenet_coco_cfg.pbtxt')"
   ]
  },
  {
   "cell_type": "code",
   "execution_count": 24,
   "id": "453aa1bd-0885-44fa-a6f1-c7b3b710cb23",
   "metadata": {},
   "outputs": [],
   "source": [
    "'''\n",
    "The strip() method removes any leading and trailing whitespaces.\n",
    "Leading means at the beginning of the string, trailing means at the end.\n",
    "rstrip() -> removes any trailing whitespaces.\n",
    "lstrip() -> removes any leading whitespaces.\n",
    "strip(character) -> a set of characters to remove as leading/trailing characters.\n",
    "'''\n",
    "def construct_class_names(file_name = 'class_names'):\n",
    "    with open(file_name, \"rt\") as file:\n",
    "        names = file.read().rstrip().split('\\n')\n",
    "    return names"
   ]
  },
  {
   "cell_type": "code",
   "execution_count": 43,
   "id": "e5465d63-8f9e-428a-acc7-91c2cafe3b5f",
   "metadata": {},
   "outputs": [],
   "source": [
    "def show_detected_objects(image, bboxes_keep, all_bounding_boxes, object_names, class_ids):\n",
    "    for index in bboxes_keep:\n",
    "        box = all_bounding_boxes[index]\n",
    "        x, y, w, h = box[0], box[1], box[2], box[3]\n",
    "        cv2.rectangle(image, (x, y), (x+w, y+h), color = (0, 255, 0), thickness = 2)\n",
    "        cv2.putText(image, object_names[class_ids[index]-1].upper(), (x, y-10), cv2.FONT_HERSHEY_COMPLEX_SMALL, \n",
    "               fontScale = 0.7, color = (0, 255, 0), thickness = 1)"
   ]
  },
  {
   "cell_type": "code",
   "execution_count": 47,
   "id": "8e289cf9-4fe0-4db8-ae41-c0b7ffcba00f",
   "metadata": {},
   "outputs": [],
   "source": [
    "neural_network.setPreferableBackend(cv2.dnn.DNN_BACKEND_OPENCV)\n",
    "neural_network.setPreferableTarget(cv2.dnn.DNN_TARGET_CPU)\n",
    "neural_network.setInputSize(ssd_input_size, ssd_input_size)\n",
    "neural_network.setInputScale(1.0 / 127.5) # normalization between [-1, 1]\n",
    "neural_network.setInputMean((127.5, 127.5, 127.5))\n",
    "neural_network.setInputSwapRB(True)\n",
    "\n",
    "class_names = construct_class_names('class_names')\n",
    "\n",
    "capture = cv2.VideoCapture('objects.mp4')\n",
    "\n",
    "while capture.isOpened():\n",
    "    \n",
    "    is_grabbed, frame = capture.read()\n",
    "\n",
    "    if not is_grabbed:\n",
    "        break\n",
    "\n",
    "    class_label_ids, confidences, bboxes = neural_network.detect(frame)\n",
    "    ''' \n",
    "        returns 3 values after tracking each frame.\n",
    "        class_label_ids = (N,1)\n",
    "        confidences     = (N,1)\n",
    "        bboxes          = (N,4) (x, y, w, h)\n",
    "    '''\n",
    "    bboxes = list(bboxes)\n",
    "    confidences = np.array(confidences).flatten()\n",
    "\n",
    "    boxes_to_keep = cv2.dnn.NMSBoxes(bboxes, confidences, threshold, suppression_threshold)\n",
    "\n",
    "    show_detected_objects(frame, boxes_to_keep, bboxes, class_names, class_label_ids)\n",
    "\n",
    "    cv2.imshow('SSD Algorithm', frame)\n",
    "    cv2.waitKey(1)\n",
    "\n",
    "capture.release()\n",
    "cv2.destroyAllWindows()"
   ]
  }
 ],
 "metadata": {
  "kernelspec": {
   "display_name": "Python 3 (ipykernel)",
   "language": "python",
   "name": "python3"
  },
  "language_info": {
   "codemirror_mode": {
    "name": "ipython",
    "version": 3
   },
   "file_extension": ".py",
   "mimetype": "text/x-python",
   "name": "python",
   "nbconvert_exporter": "python",
   "pygments_lexer": "ipython3",
   "version": "3.12.4"
  }
 },
 "nbformat": 4,
 "nbformat_minor": 5
}
