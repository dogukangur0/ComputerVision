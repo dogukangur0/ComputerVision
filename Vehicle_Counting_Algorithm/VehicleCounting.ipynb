{
 "cells": [
  {
   "cell_type": "code",
   "execution_count": 1,
   "id": "b5c71ea5-56e3-42c3-aa92-f2add6934a9a",
   "metadata": {},
   "outputs": [],
   "source": [
    "import cv2\n",
    "import torch\n",
    "from ultralytics import YOLO"
   ]
  },
  {
   "cell_type": "code",
   "execution_count": 2,
   "id": "cf215c44-5f0f-4d07-b73f-0fe6b5043ee2",
   "metadata": {
    "scrolled": true
   },
   "outputs": [],
   "source": [
    "model = YOLO('yolo11n.pt')"
   ]
  },
  {
   "cell_type": "code",
   "execution_count": null,
   "id": "8988eba8-c198-45a1-9956-029ec1010243",
   "metadata": {},
   "outputs": [],
   "source": [
    "video_path = 'carsonroad.mp4'\n",
    "\n",
    "capture = cv2.VideoCapture(video_path)\n",
    "\n",
    "width = int(capture.get(cv2.CAP_PROP_FRAME_WIDTH))\n",
    "height = int(capture.get(cv2.CAP_PROP_FRAME_HEIGHT))\n",
    "fps = int(capture.get(cv2.CAP_PROP_FPS))\n",
    "output_path = 'output_mot.mp4'\n",
    "fourcc = cv2.VideoWriter_fourcc(*'mp4v')\n",
    "output = cv2.VideoWriter(output_path, fourcc, fps, (width, height))\n",
    "\n",
    "y_line = int(height/2)\n",
    "car_counter = 0\n",
    "car_ids_crossed = set()\n",
    "\n",
    "while capture.isOpened():\n",
    "    ret, frame = capture.read()\n",
    "\n",
    "    if not ret:\n",
    "        break\n",
    "\n",
    "    results = model.track(frame, persist = True)\n",
    "\n",
    "    for det in results[0].boxes:\n",
    "        # result[0].boxes have cls(tensor), conf(tensor), data(tensor), id, shape(tensor), xywh(tensor), xyxy(tensor)\n",
    "        class_id = int(det.cls) # 0: person, 2: car ....\n",
    "        track_id = None\n",
    "\n",
    "        if det.id:\n",
    "            track_id = int(det.id)\n",
    "\n",
    "        x1, y1, x2, y2 = map(int, det.xyxy[0])\n",
    "\n",
    "        # class_id 2 is typically used for car \n",
    "        if class_id == 2:\n",
    "            if track_id and track_id not in car_ids_crossed and y1 < y_line < y2:\n",
    "                car_counter+=1\n",
    "                car_ids_crossed.add(track_id)\n",
    "            cv2.rectangle(frame, (x1, y1), (x2, y2), (255, 0, 0), 2)\n",
    "            cv2.putText(frame, f\"ID: {track_id}\", (x1, y1-10), cv2.FONT_HERSHEY_SIMPLEX, 0.9, (0, 255, 0), 2)\n",
    "\n",
    "    cv2.line(frame, (0, y_line), (width, y_line), (0, 255, 0), 2)\n",
    "    cv2.putText(frame, f\"Cars Counted: {car_counter}\", (10, 30), cv2.FONT_HERSHEY_SIMPLEX, 1, (0, 255, 0), 2)\n",
    "\n",
    "    cv2.imshow('YOLOv11 Car Counting', frame)\n",
    "    output.write(frame)\n",
    "\n",
    "    if cv2.waitKey(15) & 0xFF == ord('q'):\n",
    "        break\n",
    "\n",
    "capture.release()\n",
    "output.release()\n",
    "cv2.destroyAllWindows()"
   ]
  }
 ],
 "metadata": {
  "kernelspec": {
   "display_name": "Python 3 (ipykernel)",
   "language": "python",
   "name": "python3"
  },
  "language_info": {
   "codemirror_mode": {
    "name": "ipython",
    "version": 3
   },
   "file_extension": ".py",
   "mimetype": "text/x-python",
   "name": "python",
   "nbconvert_exporter": "python",
   "pygments_lexer": "ipython3",
   "version": "3.12.7"
  }
 },
 "nbformat": 4,
 "nbformat_minor": 5
}
