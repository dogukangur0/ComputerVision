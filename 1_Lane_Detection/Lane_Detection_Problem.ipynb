{
 "cells": [
  {
   "cell_type": "code",
   "execution_count": 22,
   "id": "eeef0547-28d8-4ae9-84a9-16f60b046f44",
   "metadata": {},
   "outputs": [],
   "source": [
    "import cv2\n",
    "import time\n",
    "import numpy as np"
   ]
  },
  {
   "cell_type": "code",
   "execution_count": 24,
   "id": "39a15e8b-a4d8-48d2-bef8-615bd15babd5",
   "metadata": {},
   "outputs": [],
   "source": [
    "def region_of_interest(frame, region_points):\n",
    "    mask = np.zeros_like(frame) \n",
    "    cv2.fillPoly(mask, region_points, 255)\n",
    "    masked_image = cv2.bitwise_and(frame, mask)\n",
    "    return masked_image"
   ]
  },
  {
   "cell_type": "code",
   "execution_count": 26,
   "id": "aacbe157-4033-4ccf-8bcc-b8701f008779",
   "metadata": {},
   "outputs": [],
   "source": [
    "def draw_the_lines(frame, lines):\n",
    "    lines_frame = np.zeros((frame.shape[0], frame.shape[1], 3), dtype = np.uint8)\n",
    "\n",
    "    for line in lines:\n",
    "        for x1, y1, x2, y2 in line:\n",
    "            cv2.line(lines_frame, (x1, y1), (x2, y2), (255, 0, 0), thickness = 3)\n",
    "\n",
    "        frame_with_lines = cv2.addWeighted(frame, 0.8, lines_frame, 1, 0.0)\n",
    "\n",
    "    return frame_with_lines"
   ]
  },
  {
   "cell_type": "code",
   "execution_count": 28,
   "id": "c2ee8488-072c-4b77-886c-5d2f032253f5",
   "metadata": {},
   "outputs": [],
   "source": [
    "def get_detected_lanes(frame):\n",
    "    height, width = frame.shape[0], frame.shape[1]\n",
    "    \n",
    "    # turn the image into grayscale\n",
    "    gray_frame = cv2.cvtColor(frame, cv2.COLOR_BGR2GRAY)\n",
    "\n",
    "    # if gradient below the thresold1, frame is not edge. \n",
    "    # if gradient equal or above the thresold1, frame is edge.\n",
    "    # if gradient between threshold1 and threshold2, only if it is connected \n",
    "    canny_frame = cv2.Canny(gray_frame, 100, 120)\n",
    "\n",
    "\n",
    "    # we are interested in lower region of the frame (driving lines) \n",
    "    region_of_interest_vertices = [\n",
    "        (0, height),\n",
    "        (width // 2, height * 0.65),\n",
    "        (width, height)\n",
    "        \n",
    "    ]\n",
    "\n",
    "    cropped_frame = region_of_interest(canny_frame, np.array([region_of_interest_vertices], np.int32))\n",
    "\n",
    "    lines = cv2.HoughLinesP(cropped_frame, rho = 2, theta = np.pi/180, threshold = 50, lines = np.array([]), \n",
    "                          minLineLength = 40, maxLineGap = 150)\n",
    "\n",
    "    image_with_lines = draw_the_lines(frame, lines)\n",
    "    \n",
    "    return image_with_lines"
   ]
  },
  {
   "cell_type": "code",
   "execution_count": 30,
   "id": "dbefc2cb-72d2-480a-9c68-7b1fbe66645e",
   "metadata": {},
   "outputs": [],
   "source": [
    "video = cv2.VideoCapture(\"lane_detection_video.mp4\")\n",
    "\n",
    "while video.isOpened():\n",
    "\n",
    "    is_grabbed, frame = video.read()\n",
    "    if is_grabbed:\n",
    "        frame = get_detected_lanes(frame)\n",
    "        cv2.imshow(\"Lane Detection Video\", frame)\n",
    "        cv2.waitKey(20)\n",
    "    else:\n",
    "        break\n",
    "        \n",
    "video.release()\n",
    "cv2.destroyAllWindows()"
   ]
  }
 ],
 "metadata": {
  "kernelspec": {
   "display_name": "Python 3 (ipykernel)",
   "language": "python",
   "name": "python3"
  },
  "language_info": {
   "codemirror_mode": {
    "name": "ipython",
    "version": 3
   },
   "file_extension": ".py",
   "mimetype": "text/x-python",
   "name": "python",
   "nbconvert_exporter": "python",
   "pygments_lexer": "ipython3",
   "version": "3.12.4"
  }
 },
 "nbformat": 4,
 "nbformat_minor": 5
}
